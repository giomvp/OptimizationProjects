{
 "cells": [
  {
   "attachments": {},
   "cell_type": "markdown",
   "metadata": {},
   "source": [
    "# Objecs in Boxes\n",
    "___\n",
    "\n",
    "Problem: Put N objects which are scattered in the plane, into a row of N boxes.\n",
    "Constrains:\n",
    "- Boxes are aligned from left to right (if i<i′, box i is to the left of box i′) on the x axis.\n",
    "- Box i is located at a point Bi of the (x,y) plane and object j is located at Oj.\n",
    "- We want to find an arrangement of objects such that:\n",
    "- each box contains exactly one object,\n",
    "- each object is stored in one box, \n",
    "- the total distance from object j  to its storage box is minimal."
   ]
  },
  {
   "cell_type": "markdown",
   "metadata": {},
   "source": [
    "Step 1: Import the library"
   ]
  },
  {
   "cell_type": "code",
   "execution_count": 1,
   "metadata": {},
   "outputs": [],
   "source": [
    "import sys\n",
    "try:\n",
    "    import docplex.mp\n",
    "except:\n",
    "    raise Exception('Please install docplex. See https://pypi.org/project/docplex/') "
   ]
  },
  {
   "cell_type": "code",
   "execution_count": 2,
   "metadata": {},
   "outputs": [],
   "source": [
    "try:\n",
    "    import cplex\n",
    "except:\n",
    "    raise Exception('Please install CPLEX. See https://pypi.org/project/cplex/')"
   ]
  },
  {
   "attachments": {},
   "cell_type": "markdown",
   "metadata": {},
   "source": [
    "Step 2: Model the data"
   ]
  },
  {
   "attachments": {},
   "cell_type": "markdown",
   "metadata": {},
   "source": [
    "The input data is the number of objects (and boxes) N, and their positions in the (x,y) plane."
   ]
  },
  {
   "attachments": {},
   "cell_type": "markdown",
   "metadata": {},
   "source": [
    "Step 3: Prepare the data"
   ]
  },
  {
   "attachments": {},
   "cell_type": "markdown",
   "metadata": {},
   "source": [
    "We use Euclidean distance to compute the distance between an object and its assigned box."
   ]
  },
  {
   "cell_type": "code",
   "execution_count": 3,
   "metadata": {},
   "outputs": [],
   "source": [
    "from math import sqrt\n",
    "\n",
    "N = 15\n",
    "box_range = range(1, N+1)\n",
    "obj_range = range(1, N+1)\n",
    "\n",
    "import random\n",
    "\n",
    "o_xmax = N*10\n",
    "o_ymax = 2*N\n",
    "box_coords = {b: (10*b, 1) for b in box_range}\n",
    "\n",
    "obj_coords= {1: (140, 6), 2: (146, 8), 3: (132, 14), 4: (53, 28), \n",
    "             5: (146, 4), 6: (137, 13), 7: (95, 12), 8: (68, 9), 9: (102, 18), \n",
    "             10: (116, 8), 11: (19, 29), 12: (89, 15), 13: (141, 4), 14: (29, 4), 15: (4, 28)}\n",
    "\n",
    "# the distance matrix from box i to object j\n",
    "# actually we compute the square of distance to keep integer\n",
    "# this does not change the essence of the problem\n",
    "distances = {}\n",
    "for o in obj_range:\n",
    "    for b in box_range:\n",
    "        dx = obj_coords[o][0]-box_coords[b][0]\n",
    "        dy = obj_coords[o][1]-box_coords[b][1]\n",
    "        d2 = dx*dx + dy*dy\n",
    "        distances[b, o] = d2"
   ]
  },
  {
   "attachments": {},
   "cell_type": "markdown",
   "metadata": {},
   "source": [
    "Step 4: Set up the prescriptive model"
   ]
  },
  {
   "cell_type": "code",
   "execution_count": 4,
   "metadata": {},
   "outputs": [
    {
     "name": "stdout",
     "output_type": "stream",
     "text": [
      "* system is: Windows 64bit\n",
      "* Python version 3.10.5, located at: c:\\Users\\gviac\\AppData\\Local\\Programs\\Python\\Python310\\python.exe\n",
      "* docplex is present, version is 2.24.232\n",
      "* CPLEX library is present, version is 22.1.0.0, located at: c:\\Users\\gviac\\AppData\\Local\\Programs\\Python\\Python310\\lib\\site-packages\n",
      "* pandas is present, version is 1.4.3\n"
     ]
    }
   ],
   "source": [
    "from docplex.mp.environment import Environment\n",
    "env = Environment()\n",
    "env.print_information()"
   ]
  },
  {
   "attachments": {},
   "cell_type": "markdown",
   "metadata": {},
   "source": [
    "Create the DOcplex model"
   ]
  },
  {
   "attachments": {},
   "cell_type": "markdown",
   "metadata": {},
   "source": [
    "The model contains all the business constraints and defines the objective."
   ]
  },
  {
   "cell_type": "code",
   "execution_count": 5,
   "metadata": {},
   "outputs": [],
   "source": [
    "\n",
    "from docplex.mp.model import Model\n",
    "\n",
    "mdl = Model(name=\"boxes\")"
   ]
  },
  {
   "attachments": {},
   "cell_type": "markdown",
   "metadata": {},
   "source": [
    "Define the decision variables"
   ]
  },
  {
   "attachments": {},
   "cell_type": "markdown",
   "metadata": {},
   "source": [
    "- For each box i (i in 1..N) and object j (j in 1..N), we define a binary variable Xi,j equal to 1 if and only if object j is stored in box i.\n",
    "\n",
    "Note that the name parameter is actually a function, this function takes a key pair ij  and coins a new name for each corresponding variables. The name parameter also accepts a string prefix, in which case, Docplex will generate names by concatenating the prefix with the string representation of keys."
   ]
  },
  {
   "cell_type": "code",
   "execution_count": 6,
   "metadata": {},
   "outputs": [],
   "source": [
    "# decision variables is a 2d-matrix\n",
    "x = mdl.binary_var_matrix(box_range, obj_range, name=lambda ij: \"x_%d_%d\" %(ij[0], ij[1]))"
   ]
  },
  {
   "attachments": {},
   "cell_type": "markdown",
   "metadata": {},
   "source": [
    "Express the business constraints\n",
    "- The sum of  over both rows and columns must be equal to , resulting in  constraints."
   ]
  },
  {
   "cell_type": "code",
   "execution_count": 7,
   "metadata": {},
   "outputs": [
    {
     "name": "stdout",
     "output_type": "stream",
     "text": [
      "Model: boxes\n",
      " - number of variables: 225\n",
      "   - binary=225, integer=0, continuous=0\n",
      " - number of constraints: 30\n",
      "   - linear=30\n",
      " - parameters: defaults\n",
      " - objective: none\n",
      " - problem type is: MILP\n"
     ]
    }
   ],
   "source": [
    "\n",
    "# one object per box\n",
    "mdl.add_constraints(mdl.sum(x[i,j] for j in obj_range) == 1 for i in box_range)\n",
    "    \n",
    "# one box for each object\n",
    "mdl.add_constraints(mdl.sum(x[i,j] for i in box_range) == 1 for j in obj_range)\n",
    "\n",
    "# model information\n",
    "mdl.print_information()"
   ]
  },
  {
   "attachments": {},
   "cell_type": "markdown",
   "metadata": {},
   "source": [
    "Express the objective\n",
    "- The objective is to minimize the total distance between each object and its storage box."
   ]
  },
  {
   "cell_type": "code",
   "execution_count": 8,
   "metadata": {},
   "outputs": [],
   "source": [
    "# minimize total displacement\n",
    "mdl.minimize(mdl.dotf(x, lambda ij: distances[ij]))"
   ]
  },
  {
   "attachments": {},
   "cell_type": "markdown",
   "metadata": {},
   "source": [
    "Solve the model"
   ]
  },
  {
   "cell_type": "code",
   "execution_count": 9,
   "metadata": {},
   "outputs": [
    {
     "name": "stdout",
     "output_type": "stream",
     "text": [
      "Model: boxes\n",
      " - number of variables: 225\n",
      "   - binary=225, integer=0, continuous=0\n",
      " - number of constraints: 30\n",
      "   - linear=30\n",
      " - parameters: defaults\n",
      " - objective: minimize\n",
      " - problem type is: MILP\n",
      "Version identifier: 22.1.0.0 | 2022-03-25 | 54982fbec\n",
      "CPXPARAM_Read_DataCheck                          1\n",
      "Found incumbent of value 106038.000000 after 0.00 sec. (0.02 ticks)\n",
      "Found incumbent of value 23518.000000 after 0.00 sec. (0.03 ticks)\n",
      "Tried aggregator 1 time.\n",
      "Reduced MIP has 30 rows, 225 columns, and 450 nonzeros.\n",
      "Reduced MIP has 225 binaries, 0 generals, 0 SOSs, and 0 indicators.\n",
      "Presolve time = 0.02 sec. (0.26 ticks)\n",
      "Probing time = 0.00 sec. (0.35 ticks)\n",
      "Tried aggregator 1 time.\n",
      "Detecting symmetries...\n",
      "Reduced MIP has 30 rows, 225 columns, and 450 nonzeros.\n",
      "Reduced MIP has 225 binaries, 0 generals, 0 SOSs, and 0 indicators.\n",
      "Presolve time = 0.02 sec. (0.30 ticks)\n",
      "Probing time = 0.00 sec. (0.35 ticks)\n",
      "Clique table members: 30.\n",
      "MIP emphasis: balance optimality and feasibility.\n",
      "MIP search method: dynamic search.\n",
      "Parallel mode: deterministic, using up to 8 threads.\n",
      "Root relaxation solution time = 0.02 sec. (0.19 ticks)\n",
      "\n",
      "        Nodes                                         Cuts/\n",
      "   Node  Left     Objective  IInf  Best Integer    Best Bound    ItCnt     Gap\n",
      "\n",
      "*     0+    0                        23518.0000        0.0000           100.00%\n",
      "*     0+    0                        22658.0000        0.0000           100.00%\n",
      "*     0+    0                        21658.0000        0.0000           100.00%\n",
      "*     0+    0                        20998.0000        0.0000           100.00%\n",
      "*     0+    0                        20098.0000        0.0000           100.00%\n",
      "*     0+    0                        19098.0000        0.0000           100.00%\n",
      "*     0+    0                        18438.0000        0.0000           100.00%\n",
      "*     0     0      integral     0     8858.0000     8858.0000       31    0.00%\n",
      "Elapsed time = 0.05 sec. (1.82 ticks, tree = 0.00 MB, solutions = 8)\n",
      "\n",
      "Root node processing (before b&c):\n",
      "  Real time             =    0.05 sec. (1.84 ticks)\n",
      "Parallel b&c, 8 threads:\n",
      "  Real time             =    0.00 sec. (0.00 ticks)\n",
      "  Sync time (average)   =    0.00 sec.\n",
      "  Wait time (average)   =    0.00 sec.\n",
      "                          ------------\n",
      "Total (root+branch&cut) =    0.05 sec. (1.84 ticks)\n"
     ]
    }
   ],
   "source": [
    "mdl.print_information()\n",
    "\n",
    "assert mdl.solve(log_output=True), \"!!! Solve of the model fails\""
   ]
  },
  {
   "cell_type": "code",
   "execution_count": 10,
   "metadata": {},
   "outputs": [
    {
     "name": "stdout",
     "output_type": "stream",
     "text": [
      "* model boxes solved with objective = 8858.000\n",
      "* solution: [15, 11, 14, 4, 8, 12, 7, 9, 10, 3, 6, 1, 13, 2, 5]\n"
     ]
    }
   ],
   "source": [
    "mdl.report()\n",
    "d1 = mdl.objective_value\n",
    "#mdl.print_solution()\n",
    "\n",
    "def make_solution_vector(x_vars):\n",
    "    sol = [0]* N\n",
    "    for i in box_range:\n",
    "        for j in obj_range:\n",
    "            if x[i,j].solution_value >= 0.5:\n",
    "                sol[i-1] = j\n",
    "                break\n",
    "    return sol\n",
    "\n",
    "def make_obj_box_dir(sol_vec):\n",
    "    # sol_vec contains an array of objects in box order at slot b-1 we have obj(b)\n",
    "    return { sol_vec[b]: b+1 for b in range(N)}\n",
    "    \n",
    "               \n",
    "sol1 = make_solution_vector(x)\n",
    "print(\"* solution: {0!s}\".format(sol1))  "
   ]
  },
  {
   "attachments": {},
   "cell_type": "markdown",
   "metadata": {},
   "source": [
    "Additional constraint #1"
   ]
  },
  {
   "attachments": {},
   "cell_type": "markdown",
   "metadata": {},
   "source": [
    "Additional constraint #2"
   ]
  }
 ],
 "metadata": {
  "kernelspec": {
   "display_name": "Python 3",
   "language": "python",
   "name": "python3"
  },
  "language_info": {
   "codemirror_mode": {
    "name": "ipython",
    "version": 3
   },
   "file_extension": ".py",
   "mimetype": "text/x-python",
   "name": "python",
   "nbconvert_exporter": "python",
   "pygments_lexer": "ipython3",
   "version": "3.10.5"
  },
  "orig_nbformat": 4,
  "vscode": {
   "interpreter": {
    "hash": "56b7ddecb5f8b0aea4e22286f801c765f2699cdf65124c981557f68eafdae354"
   }
  }
 },
 "nbformat": 4,
 "nbformat_minor": 2
}
