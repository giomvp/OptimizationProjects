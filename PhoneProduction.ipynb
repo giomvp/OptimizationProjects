{
 "cells": [
  {
   "attachments": {},
   "cell_type": "markdown",
   "metadata": {},
   "source": [
    "# Phone Production\n",
    "___\n",
    "\n",
    "Problem: How many phones to manufactor to maximize sales given core constrains"
   ]
  },
  {
   "cell_type": "code",
   "execution_count": 1,
   "metadata": {},
   "outputs": [],
   "source": [
    "from docplex.mp.model import Model\n",
    "\n",
    "# IBM Decision Optimization CPLEX Modeling for Python, also known as DOcplex, \n",
    "# is a library composed of two modules:\n",
    "#   Mathematical Programming Modeling for Python using docplex.mp (DOcplex.MP)\n",
    "#   Constraint Programming Modeling for Python using docplex.cp (DOcplex.CP)\n",
    "\n",
    "# more info: http://ibmdecisionoptimization.github.io/docplex-doc/\n"
   ]
  },
  {
   "cell_type": "code",
   "execution_count": 2,
   "metadata": {},
   "outputs": [],
   "source": [
    "m = Model(name='Phone Production')"
   ]
  },
  {
   "attachments": {},
   "cell_type": "markdown",
   "metadata": {},
   "source": [
    "### Variables"
   ]
  },
  {
   "cell_type": "code",
   "execution_count": 3,
   "metadata": {},
   "outputs": [],
   "source": [
    "# Phone Production Variables\n",
    "foldyphoneproduction = m.continuous_var(name='foldy phone production')\n",
    "tinyphoneproduction  = m.continuous_var(name='tiny phone production')"
   ]
  },
  {
   "cell_type": "code",
   "execution_count": 4,
   "metadata": {},
   "outputs": [],
   "source": [
    "# Production Time Constants per Phone\n",
    "foldyphonetime = 1.5\n",
    "tinyphonetime  = 2"
   ]
  },
  {
   "cell_type": "code",
   "execution_count": 5,
   "metadata": {},
   "outputs": [],
   "source": [
    "# Phone Sale Price\n",
    "foldyphonesaleprice = 900\n",
    "tinyphonesaleprice  = 1100"
   ]
  },
  {
   "attachments": {},
   "cell_type": "markdown",
   "metadata": {},
   "source": [
    "### Constrains"
   ]
  },
  {
   "cell_type": "code",
   "execution_count": 6,
   "metadata": {},
   "outputs": [],
   "source": [
    "# Phones Volume Production Constraint\n",
    "foldyphoneconstraint = m.add_constraint(foldyphoneproduction >= 500)\n",
    "tinyphoneconstraint  = m.add_constraint(tinyphoneproduction  >= 200)"
   ]
  },
  {
   "cell_type": "code",
   "execution_count": 7,
   "metadata": {},
   "outputs": [],
   "source": [
    "# Production Time Constraint\n",
    "totalproductionconstraint = m.add_constraint(m.sum([foldyphonetime*foldyphoneproduction, tinyphonetime*tinyphoneproduction]) <= 2999.5)"
   ]
  },
  {
   "attachments": {},
   "cell_type": "markdown",
   "metadata": {},
   "source": [
    "### Goals/Objs"
   ]
  },
  {
   "cell_type": "code",
   "execution_count": 8,
   "metadata": {},
   "outputs": [],
   "source": [
    "m.maximize(foldyphoneproduction*foldyphonesaleprice + tinyphoneproduction*foldyphonesaleprice)"
   ]
  },
  {
   "attachments": {},
   "cell_type": "markdown",
   "metadata": {},
   "source": [
    "### Solution"
   ]
  },
  {
   "cell_type": "code",
   "execution_count": 9,
   "metadata": {},
   "outputs": [],
   "source": [
    "solution = m.solve()"
   ]
  },
  {
   "cell_type": "code",
   "execution_count": 10,
   "metadata": {},
   "outputs": [
    {
     "name": "stdout",
     "output_type": "stream",
     "text": [
      "solution for: Phone Production\n",
      "objective: 1739700.000\n",
      "status: OPTIMAL_SOLUTION(2)\n",
      "foldy phone production = 1733.000\n",
      "tiny phone production = 200.000\n"
     ]
    }
   ],
   "source": [
    "solution.display()"
   ]
  },
  {
   "cell_type": "code",
   "execution_count": null,
   "metadata": {},
   "outputs": [],
   "source": []
  }
 ],
 "metadata": {
  "kernelspec": {
   "display_name": "Python 3",
   "language": "python",
   "name": "python3"
  },
  "language_info": {
   "codemirror_mode": {
    "name": "ipython",
    "version": 3
   },
   "file_extension": ".py",
   "mimetype": "text/x-python",
   "name": "python",
   "nbconvert_exporter": "python",
   "pygments_lexer": "ipython3",
   "version": "3.10.5 (tags/v3.10.5:f377153, Jun  6 2022, 16:14:13) [MSC v.1929 64 bit (AMD64)]"
  },
  "orig_nbformat": 4,
  "vscode": {
   "interpreter": {
    "hash": "56b7ddecb5f8b0aea4e22286f801c765f2699cdf65124c981557f68eafdae354"
   }
  }
 },
 "nbformat": 4,
 "nbformat_minor": 2
}
